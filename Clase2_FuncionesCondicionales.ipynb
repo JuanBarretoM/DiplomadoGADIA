{
  "nbformat": 4,
  "nbformat_minor": 0,
  "metadata": {
    "colab": {
      "provenance": [],
      "authorship_tag": "ABX9TyN27nalZQP70iBnEtiy4OiG",
      "include_colab_link": true
    },
    "kernelspec": {
      "name": "python3",
      "display_name": "Python 3"
    },
    "language_info": {
      "name": "python"
    }
  },
  "cells": [
    {
      "cell_type": "markdown",
      "metadata": {
        "id": "view-in-github",
        "colab_type": "text"
      },
      "source": [
        "<a href=\"https://colab.research.google.com/github/JuanBarretoM/DiplomadoGADIA/blob/main/Clase2_FuncionesCondicionales.ipynb\" target=\"_parent\"><img src=\"https://colab.research.google.com/assets/colab-badge.svg\" alt=\"Open In Colab\"/></a>"
      ]
    },
    {
      "cell_type": "markdown",
      "source": [
        "**CONDICIONALES, FUNCIONES Y MANEJO DE ERRORES**\n",
        "\n",
        "DIPLOMADO EN GOBIERNO DE DATOS\n",
        "\n",
        "FUNDACIÓN UNIVERSITARIA CAFAM\n",
        "\n",
        "DOCENTE: NICOLAS MOJICA GOMEZ\n",
        "\n",
        "ESTUDIANTES: JUAN SEBASTIAN BARRETO MORENO\n",
        "\n",
        "\n",
        "\n",
        "\n",
        "\n",
        "---"
      ],
      "metadata": {
        "id": "iDSw0EsFcSsh"
      }
    },
    {
      "cell_type": "code",
      "execution_count": null,
      "metadata": {
        "colab": {
          "base_uri": "https://localhost:8080/"
        },
        "id": "s322itFfcHjC",
        "outputId": "044653ac-f308-4407-a1fa-13c889c2b487"
      },
      "outputs": [
        {
          "output_type": "stream",
          "name": "stdout",
          "text": [
            "Eres mayor de edad\n"
          ]
        }
      ],
      "source": [
        "## Las condicionales en Python permiten tomar decisiones en el código basadas\n",
        "## en ciertas condiciones, son fundamentales para controlar el flujo de ejecución.\n",
        "edad = 18\n",
        "## Crear una codicional que identifique si la persona es mayor o menor de edad.\n",
        "if edad < 18 :\n",
        "  print(\"Eres menor de edad\")\n",
        "else :\n",
        "  print(\"Eres mayor de edad\")"
      ]
    },
    {
      "cell_type": "code",
      "source": [
        "## Generar un programa que clasifique la edad introducida por el usuario entre\n",
        "## mayor y menor de edad\n",
        "edad = int(input(\"Por favor, ingresa tu edad = \"))\n",
        "if edad < 18 :\n",
        "  print(\"Eres menor de edad\")\n",
        "else :\n",
        "  print(\"Eres mayor de edad\")"
      ],
      "metadata": {
        "colab": {
          "base_uri": "https://localhost:8080/"
        },
        "id": "DuGJAWEUc1uV",
        "outputId": "29226003-6573-4ee1-8523-55b171d4efb5"
      },
      "execution_count": null,
      "outputs": [
        {
          "output_type": "stream",
          "name": "stdout",
          "text": [
            "Por favor, ingresa tu edad = 117\n",
            "Eres mayor de edad\n"
          ]
        }
      ]
    },
    {
      "cell_type": "code",
      "source": [
        "## Contruya un programa que al ingresar la nota del usuario lo clasifique en:\n",
        "## No aprobado <60, >=90 Clasificación A, >= 80 Clasificación B, otros Clasificación C.\n",
        "nota = int(input(\"Ingrese la nota = \"))\n",
        "if nota >= 60 :\n",
        "  if nota >= 90 :\n",
        "    print(\"Clasificación A\")\n",
        "  elif nota >= 80 :\n",
        "    print(\"Clasificación B\")\n",
        "  else :\n",
        "    print(\"Clasificación C\")\n",
        "else :\n",
        "   print(\"No aprobado\")"
      ],
      "metadata": {
        "id": "PG2ljRt8dlF-",
        "colab": {
          "base_uri": "https://localhost:8080/"
        },
        "outputId": "dee211da-ee98-42b7-a5b5-cd8fcee445e0"
      },
      "execution_count": null,
      "outputs": [
        {
          "output_type": "stream",
          "name": "stdout",
          "text": [
            "Ingrese la nota = 120\n",
            "Clasificación A\n"
          ]
        }
      ]
    },
    {
      "cell_type": "markdown",
      "source": [
        "## 1. Comparaciones\n",
        "\n",
        "Las condiciones en las sentencias condicionales suelen involucrar operadores de comparación:\n",
        "\n",
        "- **\"==\"** (igual a)\n",
        "- **\"!=\"** (diferente de)\n",
        "- **\">\"**  (mayor que)\n",
        "- **\"<\"**  (menor que)\n",
        "- **\">=\"** (mayor o igual que)\n",
        "- **\"<=\"** (menor o igual que)"
      ],
      "metadata": {
        "id": "OgnOn8Duu4bJ"
      }
    },
    {
      "cell_type": "code",
      "source": [
        "from re import X\n",
        "## Escribe un programa que verifique si un número ingresado por el usuario es par o impar.\n",
        "númeroPI = int(input(\"Ingrese un número = \"))\n",
        "if str(númeroPI)[-1] in \"02468\":\n",
        " print(\"PAR\")\n",
        "else :\n",
        " print(\"IMPAR\")\n"
      ],
      "metadata": {
        "id": "IK0nRKt4inP_",
        "outputId": "16e605bd-0351-45f1-9acd-60bf16e6cead",
        "colab": {
          "base_uri": "https://localhost:8080/"
        }
      },
      "execution_count": null,
      "outputs": [
        {
          "output_type": "stream",
          "name": "stdout",
          "text": [
            "Ingrese un número = 365\n",
            "IMPAR\n"
          ]
        }
      ]
    },
    {
      "cell_type": "code",
      "source": [
        "## Crea un programa que lea dos números y determine cuál es mayor, cuál es\n",
        "## menor o si ambos son iguales.\n",
        "N1 = int(input(\"Primer número = \"))\n",
        "N2 = int(input(\"Segundo número = \"))\n",
        "if N1 > N2 :\n",
        " print(\"Primer número es mayor\")\n",
        "if N1 < N2 :\n",
        " print(\"Segundo número es mayor\")\n",
        "if N1 == N2 :\n",
        " print(\"Ambos números son iguales\")"
      ],
      "metadata": {
        "id": "JkOJTpTAjdxK",
        "outputId": "f4eec1f9-6d05-490f-8681-69c10db6efd9",
        "colab": {
          "base_uri": "https://localhost:8080/"
        }
      },
      "execution_count": null,
      "outputs": [
        {
          "output_type": "stream",
          "name": "stdout",
          "text": [
            "Primer número = +10\n",
            "Segundo número = -10\n",
            "Primer número es mayor\n"
          ]
        }
      ]
    },
    {
      "cell_type": "code",
      "source": [
        "## Escribe un programa que clasifique la edad en diferentes categorías:\n",
        "## Niño (0-12 años), Adolescente (13-17 años), Adulto (18-64 años) y Anciano (65 años o más).\n",
        "edad = int(input(\"Ingrese su edad a clasificar = \"))\n",
        "if edad > 0 :\n",
        "  if edad >= 65 :\n",
        "    print(\"Anciano\")\n",
        "  elif edad >= 18 :\n",
        "    print(\"Adulto\")\n",
        "  elif edad >= 13 :\n",
        "    print(\"Adolecente\")\n",
        "  else :\n",
        "    print(\"Niño\")\n",
        "else :\n",
        "   print(\"Aun eres un sueño\")"
      ],
      "metadata": {
        "id": "tK5pNUcAplec",
        "outputId": "316edee2-1de4-438f-e1c9-d213368e8c70",
        "colab": {
          "base_uri": "https://localhost:8080/"
        }
      },
      "execution_count": null,
      "outputs": [
        {
          "output_type": "stream",
          "name": "stdout",
          "text": [
            "Ingrese su edad a clasificar = 22\n",
            "Adulto\n"
          ]
        }
      ]
    },
    {
      "cell_type": "markdown",
      "source": [
        "## 2. Funciones\n",
        "\n",
        "Bloques de código en Python que se pueden reutilizar para ejecutar una tarea en especítico."
      ],
      "metadata": {
        "id": "UjYZcMczukYQ"
      }
    },
    {
      "cell_type": "code",
      "source": [
        "## Tengo la función lineal (Y = MX + B)\n",
        "## Deseo evaluar el valor de (X = 5) en la función (Y = 4X + 7)\n",
        "def Función_lineal (X) :\n",
        "  Y = (4*X)+7\n",
        "  Z = print(f\"El valor de Y equivale a: {Y}\")\n",
        "  return Z\n",
        "Función_lineal(int(input(\"Variable = \")))"
      ],
      "metadata": {
        "id": "lLVKns3yq34q",
        "outputId": "116fca33-bcbe-4167-c5fa-1d895f64fd48",
        "colab": {
          "base_uri": "https://localhost:8080/"
        }
      },
      "execution_count": null,
      "outputs": [
        {
          "output_type": "stream",
          "name": "stdout",
          "text": [
            "Variable = 5\n",
            "El valor de Y equivale a: 27\n"
          ]
        }
      ]
    },
    {
      "cell_type": "code",
      "source": [
        "def suma(a,b) :\n",
        " return a+b\n",
        "print(suma(2,2))"
      ],
      "metadata": {
        "id": "lrhZh3oPwGV_",
        "outputId": "6b3724bc-9511-4956-c140-c9f14670a680",
        "colab": {
          "base_uri": "https://localhost:8080/"
        }
      },
      "execution_count": null,
      "outputs": [
        {
          "output_type": "stream",
          "name": "stdout",
          "text": [
            "4\n"
          ]
        }
      ]
    },
    {
      "cell_type": "code",
      "source": [
        "## Escribe una función que reciba la edad de una persona como parámetro\n",
        "## determine si la persona es mayor de edad (18 años o más) o menor de edad.\n",
        "def Edades (X) :\n",
        "  Y = (X+3)-(X/X)-20\n",
        "  if (Y)<0 :\n",
        "   print(\"Eres menor de edad\")\n",
        "  if (Y)>=0 :\n",
        "   print(\"Eres mayor de edad\")\n",
        "Edades (int(input(\"Tu edad = \")))"
      ],
      "metadata": {
        "id": "xPqhoDSIzyd2",
        "outputId": "72c354ed-fa38-4d6b-f0bc-78fed08a7349",
        "colab": {
          "base_uri": "https://localhost:8080/"
        }
      },
      "execution_count": null,
      "outputs": [
        {
          "output_type": "stream",
          "name": "stdout",
          "text": [
            "Tu edad = 18\n",
            "Eres mayor de edad\n"
          ]
        }
      ]
    },
    {
      "cell_type": "code",
      "source": [
        "## FIN CLASE ##"
      ],
      "metadata": {
        "id": "7Gx6Mvdy0qGe"
      },
      "execution_count": null,
      "outputs": []
    },
    {
      "cell_type": "markdown",
      "source": [
        "## 3. Ejercicios"
      ],
      "metadata": {
        "id": "J4YgQ5_4O7yD"
      }
    },
    {
      "cell_type": "code",
      "source": [
        "# \"def\" nos permite deinir un nombre de función.\n",
        "# Posterior al \"def\" dentro de los parentesis, colocamos las variables o parámetros de la función.\n",
        "# Finalizamos con \":\" para empezar a declarar el calculo con las variables solicitadas\n",
        "def saludar(nombre):\n",
        "    print(\"Hola \" + nombre)\n",
        "# Llamar a la función para poner el nombre, y dentro de los parentesis la variable que\n",
        "# queremos evaluar en esta función.\n",
        "saludar(input(\"Ingrese su nombre: \"))"
      ],
      "metadata": {
        "colab": {
          "base_uri": "https://localhost:8080/"
        },
        "id": "4atyp96CO3zL",
        "outputId": "6c1254bd-3ff6-4b4c-e41f-ceb3467130ff"
      },
      "execution_count": 3,
      "outputs": [
        {
          "output_type": "stream",
          "name": "stdout",
          "text": [
            "Ingrese su nombre: Sebastián\n",
            "Hola Sebastián\n"
          ]
        }
      ]
    },
    {
      "cell_type": "code",
      "source": [
        "#  Defina una funcion que al ingresar su nombre lo salude y determine si ud es mayor o menor de edad.\n",
        "def saludar(nombre):\n",
        "    print(\"Hola \" + nombre)\n",
        "saludar(input(\"Ingrese su nombre: \"))\n",
        "IdEdad = int(input(\"Escriba su edad: \"))\n",
        "if IdEdad >= 18 :\n",
        " print(\"Mayor de edad\")\n",
        "else :\n",
        " print(\"Menor de edad\")\n",
        "print(IdEdad)"
      ],
      "metadata": {
        "colab": {
          "base_uri": "https://localhost:8080/"
        },
        "id": "ClT1uI7XPs5x",
        "outputId": "b029b03c-d87c-4eca-e9da-ba06a87a46ab"
      },
      "execution_count": 12,
      "outputs": [
        {
          "output_type": "stream",
          "name": "stdout",
          "text": [
            "Ingrese su nombre: Sebastian\n",
            "Hola Sebastian\n",
            "Escriba su edad: 22\n",
            "Mayor de edad\n",
            "22\n"
          ]
        }
      ]
    },
    {
      "cell_type": "code",
      "source": [
        "# Ejemplo profesor\n",
        "def saludo_edad(nombre,edad) :\n",
        " if edad >= 0 :\n",
        "  if edad  < 18 :\n",
        "   print(f\"Hola {nombre}, eres menor de edad\")\n",
        "  else :\n",
        "    print(f\"Hola {nombre}, eres mayor de edad\")\n",
        " else :\n",
        "   print(\"la edad ingresada no es valida\")\n",
        "\n",
        "saludo_edad(input(\"Ingrese su nombre: \"),int(input(\"Ingrese su edad: \")))"
      ],
      "metadata": {
        "colab": {
          "base_uri": "https://localhost:8080/"
        },
        "id": "6vPRWn_4Qp_Y",
        "outputId": "f1db2a06-cd28-4ad8-c015-686478d1876b"
      },
      "execution_count": 15,
      "outputs": [
        {
          "output_type": "stream",
          "name": "stdout",
          "text": [
            "Ingrese su nombre: DOBLETE\n",
            "Ingrese su edad: 2\n",
            "Hola DOBLETE, eres menor de edad\n"
          ]
        }
      ]
    },
    {
      "cell_type": "code",
      "source": [
        "# Descripción: Escribe una función que tome una contraseña\n",
        "# verifique contra una contraseña predeterminada (\"secreta123\").\n",
        "# La función debe devolver si la contraseña es correcta o incorrecta.\n",
        "\n",
        "def verificar_contraseña(contraseña):\n",
        "    if contraseña == \"secreta123\":\n",
        "        return \"Contraseña correcta\"\n",
        "    else:\n",
        "        return \"Contraseña incorrecta\"\n",
        "\n",
        "verificar_contraseña(input(\"Escribe la contraseña: \"))"
      ],
      "metadata": {
        "colab": {
          "base_uri": "https://localhost:8080/",
          "height": 53
        },
        "id": "vLfX94IXTXPs",
        "outputId": "f89c9b7a-4796-43dc-96c9-9302fa51b643"
      },
      "execution_count": 50,
      "outputs": [
        {
          "name": "stdout",
          "output_type": "stream",
          "text": [
            "Escribe la contraseña: secreta123\n"
          ]
        },
        {
          "output_type": "execute_result",
          "data": {
            "text/plain": [
              "'Contraseña correcta'"
            ],
            "application/vnd.google.colaboratory.intrinsic+json": {
              "type": "string"
            }
          },
          "metadata": {},
          "execution_count": 50
        }
      ]
    },
    {
      "cell_type": "code",
      "source": [],
      "metadata": {
        "id": "EhS-3yOQUrQ-"
      },
      "execution_count": null,
      "outputs": []
    }
  ]
}