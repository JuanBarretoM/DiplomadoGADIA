{
  "nbformat": 4,
  "nbformat_minor": 0,
  "metadata": {
    "colab": {
      "provenance": [],
      "authorship_tag": "ABX9TyOwRhN7woyRqt+ZFWOVS4+F",
      "include_colab_link": true
    },
    "kernelspec": {
      "name": "python3",
      "display_name": "Python 3"
    },
    "language_info": {
      "name": "python"
    }
  },
  "cells": [
    {
      "cell_type": "markdown",
      "metadata": {
        "id": "view-in-github",
        "colab_type": "text"
      },
      "source": [
        "<a href=\"https://colab.research.google.com/github/JuanBarretoM/DiplomadoGADIA/blob/main/Clase2_FuncionesCondicionales.ipynb\" target=\"_parent\"><img src=\"https://colab.research.google.com/assets/colab-badge.svg\" alt=\"Open In Colab\"/></a>"
      ]
    },
    {
      "cell_type": "markdown",
      "source": [
        "**CONDICIONALES, FUNCIONES Y MANEJO DE ERRORES**\n",
        "\n",
        "DIPLOMADO EN GOBIERNO DE DATOS\n",
        "\n",
        "FUNDACIÓN UNIVERSITARIA CAFAM\n",
        "\n",
        "DOCENTE: NICOLAS MOJICA GOMEZ\n",
        "\n",
        "ESTUDIANTES: JUAN SEBASTIAN BARRETO MORENO\n",
        "\n",
        "\n",
        "\n",
        "\n",
        "\n",
        "---"
      ],
      "metadata": {
        "id": "iDSw0EsFcSsh"
      }
    },
    {
      "cell_type": "code",
      "execution_count": 160,
      "metadata": {
        "colab": {
          "base_uri": "https://localhost:8080/"
        },
        "id": "s322itFfcHjC",
        "outputId": "044653ac-f308-4407-a1fa-13c889c2b487"
      },
      "outputs": [
        {
          "output_type": "stream",
          "name": "stdout",
          "text": [
            "Eres mayor de edad\n"
          ]
        }
      ],
      "source": [
        "## Las condicionales en Python permiten tomar decisiones en el código basadas en ciertas condiciones, son fundamentales para controlar el flujo de ejecución.\n",
        "edad = 18\n",
        "## Crear una codicional que identifique si la persona es mayor o menor de edad.\n",
        "if edad < 18 :\n",
        "  print(\"Eres menor de edad\")\n",
        "else :\n",
        "  print(\"Eres mayor de edad\")"
      ]
    },
    {
      "cell_type": "code",
      "source": [
        "## Generar un programa que clasifique la edad introducida por el usuario entre mayor y menor de edad\n",
        "edad = int(input(\"Por favor, ingresa tu edad = \"))\n",
        "if edad < 18 :\n",
        "  print(\"Eres menor de edad\")\n",
        "else :\n",
        "  print(\"Eres mayor de edad\")"
      ],
      "metadata": {
        "colab": {
          "base_uri": "https://localhost:8080/"
        },
        "id": "DuGJAWEUc1uV",
        "outputId": "29226003-6573-4ee1-8523-55b171d4efb5"
      },
      "execution_count": 161,
      "outputs": [
        {
          "output_type": "stream",
          "name": "stdout",
          "text": [
            "Por favor, ingresa tu edad = 117\n",
            "Eres mayor de edad\n"
          ]
        }
      ]
    },
    {
      "cell_type": "code",
      "source": [
        "## Contruya un programa que al ingresar la nota del usuario lo clasifique en:\n",
        "## No aprobado <60, >=90 Clasificación A, >= 80 Clasificación B, otros Clasificación C.\n",
        "nota = int(input(\"Ingrese la nota = \"))\n",
        "if nota >= 60 :\n",
        "  if nota >= 90 :\n",
        "    print(\"Clasificación A\")\n",
        "  elif nota >= 80 :\n",
        "    print(\"Clasificación B\")\n",
        "  else :\n",
        "    print(\"Clasificación C\")\n",
        "else :\n",
        "   print(\"No aprobado\")"
      ],
      "metadata": {
        "id": "PG2ljRt8dlF-",
        "colab": {
          "base_uri": "https://localhost:8080/"
        },
        "outputId": "dee211da-ee98-42b7-a5b5-cd8fcee445e0"
      },
      "execution_count": 162,
      "outputs": [
        {
          "output_type": "stream",
          "name": "stdout",
          "text": [
            "Ingrese la nota = 120\n",
            "Clasificación A\n"
          ]
        }
      ]
    },
    {
      "cell_type": "markdown",
      "source": [
        "## 1. Comparaciones\n",
        "\n",
        "Las condiciones en las sentencias condicionales suelen involucrar operadores de comparación:\n",
        "\n",
        "- **\"==\"** (igual a)\n",
        "- **\"!=\"** (diferente de)\n",
        "- **\">\"**  (mayor que)\n",
        "- **\"<\"**  (menor que)\n",
        "- **\">=\"** (mayor o igual que)\n",
        "- **\"<=\"** (menor o igual que)"
      ],
      "metadata": {
        "id": "OgnOn8Duu4bJ"
      }
    },
    {
      "cell_type": "code",
      "source": [
        "from re import X\n",
        "## Escribe un programa que verifique si un número ingresado por el usuario es par o impar.\n",
        "númeroPI = int(input(\"Ingrese un número = \"))\n",
        "if str(númeroPI)[-1] in \"02468\":\n",
        " print(\"PAR\")\n",
        "else :\n",
        " print(\"IMPAR\")\n"
      ],
      "metadata": {
        "id": "IK0nRKt4inP_",
        "outputId": "16e605bd-0351-45f1-9acd-60bf16e6cead",
        "colab": {
          "base_uri": "https://localhost:8080/"
        }
      },
      "execution_count": 163,
      "outputs": [
        {
          "output_type": "stream",
          "name": "stdout",
          "text": [
            "Ingrese un número = 365\n",
            "IMPAR\n"
          ]
        }
      ]
    },
    {
      "cell_type": "code",
      "source": [
        "## Crea un programa que lea dos números y determine cuál es mayor, cuál es menor o si ambos son iguales.\n",
        "N1 = int(input(\"Primer número = \"))\n",
        "N2 = int(input(\"Segundo número = \"))\n",
        "if N1 > N2 :\n",
        " print(\"Primer número es mayor\")\n",
        "if N1 < N2 :\n",
        " print(\"Segundo número es mayor\")\n",
        "if N1 == N2 :\n",
        " print(\"Ambos números son iguales\")"
      ],
      "metadata": {
        "id": "JkOJTpTAjdxK",
        "outputId": "f4eec1f9-6d05-490f-8681-69c10db6efd9",
        "colab": {
          "base_uri": "https://localhost:8080/"
        }
      },
      "execution_count": 164,
      "outputs": [
        {
          "output_type": "stream",
          "name": "stdout",
          "text": [
            "Primer número = +10\n",
            "Segundo número = -10\n",
            "Primer número es mayor\n"
          ]
        }
      ]
    },
    {
      "cell_type": "code",
      "source": [
        "## Escribe un programa que clasifique la edad en diferentes categorías: Niño (0-12 años), Adolescente (13-17 años), Adulto (18-64 años) y Anciano (65 años o más).\n",
        "edad = int(input(\"Ingrese su edad a clasificar = \"))\n",
        "if edad > 0 :\n",
        "  if edad >= 65 :\n",
        "    print(\"Anciano\")\n",
        "  elif edad >= 18 :\n",
        "    print(\"Adulto\")\n",
        "  elif edad >= 13 :\n",
        "    print(\"Adolecente\")\n",
        "  else :\n",
        "    print(\"Niño\")\n",
        "else :\n",
        "   print(\"Aun eres un sueño\")"
      ],
      "metadata": {
        "id": "tK5pNUcAplec",
        "outputId": "316edee2-1de4-438f-e1c9-d213368e8c70",
        "colab": {
          "base_uri": "https://localhost:8080/"
        }
      },
      "execution_count": 165,
      "outputs": [
        {
          "output_type": "stream",
          "name": "stdout",
          "text": [
            "Ingrese su edad a clasificar = 22\n",
            "Adulto\n"
          ]
        }
      ]
    },
    {
      "cell_type": "markdown",
      "source": [
        "## 2. Funciones\n",
        "\n",
        "Bloques de código en Python que se pueden reutilizar para ejecutar una tarea en especítico."
      ],
      "metadata": {
        "id": "UjYZcMczukYQ"
      }
    },
    {
      "cell_type": "code",
      "source": [
        "## Tengo la función lineal (Y = MX + B)\n",
        "## Deseo evaluar el valor de (X = 5) en la función (Y = 4X + 7)\n",
        "def Función_lineal (X) :\n",
        "  Y = (4*X)+7\n",
        "  Z = print(f\"El valor de Y equivale a: {Y}\")\n",
        "  return Z\n",
        "Función_lineal(int(input(\"Variable = \")))"
      ],
      "metadata": {
        "id": "lLVKns3yq34q",
        "outputId": "116fca33-bcbe-4167-c5fa-1d895f64fd48",
        "colab": {
          "base_uri": "https://localhost:8080/"
        }
      },
      "execution_count": 166,
      "outputs": [
        {
          "output_type": "stream",
          "name": "stdout",
          "text": [
            "Variable = 5\n",
            "El valor de Y equivale a: 27\n"
          ]
        }
      ]
    },
    {
      "cell_type": "code",
      "source": [
        "def suma(a,b) :\n",
        " return a+b\n",
        "print(suma(2,2))"
      ],
      "metadata": {
        "id": "lrhZh3oPwGV_",
        "outputId": "6b3724bc-9511-4956-c140-c9f14670a680",
        "colab": {
          "base_uri": "https://localhost:8080/"
        }
      },
      "execution_count": 167,
      "outputs": [
        {
          "output_type": "stream",
          "name": "stdout",
          "text": [
            "4\n"
          ]
        }
      ]
    },
    {
      "cell_type": "code",
      "source": [
        "## Escribe una función que reciba la edad de una persona como parámetro y determine si la persona es mayor de edad (18 años o más) o menor de edad.\n",
        "def Edades (X) :\n",
        "  Y = (X+3)-(X/X)-20\n",
        "  if (Y)<0 :\n",
        "   print(\"Eres menor de edad\")\n",
        "  if (Y)>=0 :\n",
        "   print(\"Eres mayor de edad\")\n",
        "Edades (int(input(\"Tu edad = \")))"
      ],
      "metadata": {
        "id": "xPqhoDSIzyd2",
        "outputId": "72c354ed-fa38-4d6b-f0bc-78fed08a7349",
        "colab": {
          "base_uri": "https://localhost:8080/"
        }
      },
      "execution_count": 168,
      "outputs": [
        {
          "output_type": "stream",
          "name": "stdout",
          "text": [
            "Tu edad = 18\n",
            "Eres mayor de edad\n"
          ]
        }
      ]
    },
    {
      "cell_type": "code",
      "source": [],
      "metadata": {
        "id": "7Gx6Mvdy0qGe"
      },
      "execution_count": 168,
      "outputs": []
    }
  ]
}