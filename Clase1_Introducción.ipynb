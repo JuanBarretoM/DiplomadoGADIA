{
  "nbformat": 4,
  "nbformat_minor": 0,
  "metadata": {
    "colab": {
      "provenance": [],
      "toc_visible": true
    },
    "kernelspec": {
      "name": "python3",
      "display_name": "Python 3"
    },
    "language_info": {
      "name": "python"
    }
  },
  "cells": [
    {
      "cell_type": "code",
      "execution_count": 101,
      "metadata": {
        "id": "179NGODyosUI"
      },
      "outputs": [],
      "source": []
    },
    {
      "cell_type": "markdown",
      "source": [
        "**INTRODICIÓN A PYTHON**\n",
        "\n",
        "DIPLOMADO EN GOBIERNO DE DATOS\n",
        "\n",
        "FUNDACIÓN UNIVERSITARIA CAFAM\n",
        "\n",
        "DOCENTE: NICOLAS MOJICA GOMEZ\n",
        "\n",
        "ESTUDIANTES: JUAN SEBASTIAN BARRETO MORENO\n",
        "\n",
        "\n",
        "\n",
        "\n",
        "\n",
        "---\n",
        "\n"
      ],
      "metadata": {
        "id": "6jNabM5RqJP1"
      }
    },
    {
      "cell_type": "markdown",
      "source": [
        "## 1. Comentarios en los códigos\n",
        "\n",
        "Para documentar códigos en PYTHON exiten diferentes formas de crear comentarios, esto nos permite documentar nuestras secuencias de comandos para su análisis y/o posterior modificación."
      ],
      "metadata": {
        "id": "Vu-0n9FDrzg7"
      }
    },
    {
      "cell_type": "code",
      "source": [
        "# Este comentario es de una sola línea\n",
        "# Python es un progama sensible a las mayusculas y las minusculas.\n",
        "print(\"Hola Mundo\")"
      ],
      "metadata": {
        "colab": {
          "base_uri": "https://localhost:8080/"
        },
        "id": "GIRlV2k_rxaG",
        "outputId": "17858d13-84ae-4cd0-c61b-31236761a973"
      },
      "execution_count": 102,
      "outputs": [
        {
          "output_type": "stream",
          "name": "stdout",
          "text": [
            "Hola Mundo\n"
          ]
        }
      ]
    },
    {
      "cell_type": "code",
      "source": [
        "'''\n",
        " Este comentario es de multiples líneas,\n",
        " puede extenderse en varias lineas\n",
        "'''\n",
        "print (\"Adiós Mundo\")"
      ],
      "metadata": {
        "colab": {
          "base_uri": "https://localhost:8080/"
        },
        "id": "hURyhoABvm-a",
        "outputId": "b92daf4a-4515-4275-a8c5-dc1430e32c1e"
      },
      "execution_count": 103,
      "outputs": [
        {
          "output_type": "stream",
          "name": "stdout",
          "text": [
            "Adiós Mundo\n"
          ]
        }
      ]
    },
    {
      "cell_type": "markdown",
      "source": [
        "## 2. Variables\n",
        "\n",
        "Una variable es un elemento de un lenguaje de programación que tiene asignado un valor determinado."
      ],
      "metadata": {
        "id": "0xVIYWdOwWel"
      }
    },
    {
      "cell_type": "code",
      "source": [
        "# Para crear una variable en Phyton se le debe proporcionar un nombre y se le debe asignar un valor usando un igual\n",
        "var=\"Hola mundo 2\"\n",
        "print(var)"
      ],
      "metadata": {
        "colab": {
          "base_uri": "https://localhost:8080/"
        },
        "id": "7ap52ii0wK2D",
        "outputId": "6f351b07-f9f3-404a-b77d-a5165bbc4fd4"
      },
      "execution_count": 104,
      "outputs": [
        {
          "output_type": "stream",
          "name": "stdout",
          "text": [
            "Hola mundo 2\n"
          ]
        }
      ]
    },
    {
      "cell_type": "code",
      "source": [
        "# Las variables pueden cambiar a lo largo del programa de Phyton.\n",
        "var=\"Adiós mundo 2\"\n",
        "print(var)"
      ],
      "metadata": {
        "colab": {
          "base_uri": "https://localhost:8080/"
        },
        "id": "B3A58AbTxww3",
        "outputId": "8ac39247-9ee7-40b8-ab5f-f1bc52a4f0cd"
      },
      "execution_count": 105,
      "outputs": [
        {
          "output_type": "stream",
          "name": "stdout",
          "text": [
            "Adiós mundo 2\n"
          ]
        }
      ]
    },
    {
      "cell_type": "markdown",
      "source": [
        "## 3. Tipos de datos"
      ],
      "metadata": {
        "id": "_-4Pv0n74Zcu"
      }
    },
    {
      "cell_type": "code",
      "source": [
        "# Tipos de datos numericos\n",
        "entero=42\n",
        "# En la mayor parte de la programación los enteros son representados con \"int\""
      ],
      "metadata": {
        "id": "M34KwtsdyB8r"
      },
      "execution_count": 106,
      "outputs": []
    },
    {
      "cell_type": "code",
      "source": [
        "# Tipo de dato flotante\n",
        "flotante=3.14151"
      ],
      "metadata": {
        "id": "bi7UVGB55rtS"
      },
      "execution_count": 107,
      "outputs": []
    },
    {
      "cell_type": "code",
      "source": [
        "# Conversión de los tipos de datos\n",
        "# Convertir un flotante a un número entero\n",
        "entero=int(3.14)\n",
        "print(entero)"
      ],
      "metadata": {
        "colab": {
          "base_uri": "https://localhost:8080/"
        },
        "id": "3VuqrsKK6GTN",
        "outputId": "9217877b-11b0-4b6f-8e4b-8fa40c19d4b0"
      },
      "execution_count": 108,
      "outputs": [
        {
          "output_type": "stream",
          "name": "stdout",
          "text": [
            "3\n"
          ]
        }
      ]
    },
    {
      "cell_type": "code",
      "source": [
        "# Convertir un entero en flotante\n",
        "flotante=float(5)\n",
        "print(flotante)"
      ],
      "metadata": {
        "colab": {
          "base_uri": "https://localhost:8080/"
        },
        "id": "ZC1ra6iX7DmQ",
        "outputId": "61c09665-f687-4735-aa63-28b2a8d6a5d8"
      },
      "execution_count": 109,
      "outputs": [
        {
          "output_type": "stream",
          "name": "stdout",
          "text": [
            "5.0\n"
          ]
        }
      ]
    },
    {
      "cell_type": "markdown",
      "source": [
        "## 4. Operadores aritméticos\n",
        "\n",
        "Los operadores matemáticos se utilizan para realizar operaciones comúnes cómo: la adición, multiplicación, división, sustracción, etc."
      ],
      "metadata": {
        "id": "4J8JojMi7maO"
      }
    },
    {
      "cell_type": "code",
      "source": [
        "# Suma\n",
        "a=10\n",
        "b=5\n",
        "print(a+b)"
      ],
      "metadata": {
        "colab": {
          "base_uri": "https://localhost:8080/"
        },
        "id": "4mXG9M9-7Svo",
        "outputId": "f76d6692-bbfc-46ee-cecc-58da6db49f10"
      },
      "execution_count": 110,
      "outputs": [
        {
          "output_type": "stream",
          "name": "stdout",
          "text": [
            "15\n"
          ]
        }
      ]
    },
    {
      "cell_type": "code",
      "source": [
        "# Resta\n",
        "c=a-b\n",
        "print(c)"
      ],
      "metadata": {
        "colab": {
          "base_uri": "https://localhost:8080/"
        },
        "id": "rHo_6VXC8abv",
        "outputId": "c97ca22c-6ab9-4ee1-eb49-de5c72a1717a"
      },
      "execution_count": 111,
      "outputs": [
        {
          "output_type": "stream",
          "name": "stdout",
          "text": [
            "5\n"
          ]
        }
      ]
    },
    {
      "cell_type": "code",
      "source": [
        "# Multiplicación\n",
        "d=a*b\n",
        "print(d)"
      ],
      "metadata": {
        "colab": {
          "base_uri": "https://localhost:8080/"
        },
        "id": "xm-1BW1V8gxs",
        "outputId": "691218dd-5ecb-4e93-cf89-4b80c7f17a5c"
      },
      "execution_count": 112,
      "outputs": [
        {
          "output_type": "stream",
          "name": "stdout",
          "text": [
            "50\n"
          ]
        }
      ]
    },
    {
      "cell_type": "code",
      "source": [
        "# División\n",
        "e=a/b\n",
        "print(e)"
      ],
      "metadata": {
        "colab": {
          "base_uri": "https://localhost:8080/"
        },
        "id": "efmDEbnA8qZT",
        "outputId": "1fcefaa3-882a-45e7-ae74-c470a930d35a"
      },
      "execution_count": 113,
      "outputs": [
        {
          "output_type": "stream",
          "name": "stdout",
          "text": [
            "2.0\n"
          ]
        }
      ]
    },
    {
      "cell_type": "code",
      "source": [
        "# División entera\n",
        "print(a//b)"
      ],
      "metadata": {
        "colab": {
          "base_uri": "https://localhost:8080/"
        },
        "id": "Jr0WmDqQA0Yr",
        "outputId": "adff3722-615c-4e74-dcbf-3b792bfad8ab"
      },
      "execution_count": 114,
      "outputs": [
        {
          "output_type": "stream",
          "name": "stdout",
          "text": [
            "2\n"
          ]
        }
      ]
    },
    {
      "cell_type": "code",
      "source": [
        "# Módulo (Este nos dá el residuo de una operación)\n",
        "print(a%b)"
      ],
      "metadata": {
        "colab": {
          "base_uri": "https://localhost:8080/"
        },
        "id": "EOYPqHhpBATs",
        "outputId": "3ab9fd51-b58a-45b6-da00-3f82ad79bfa6"
      },
      "execution_count": 115,
      "outputs": [
        {
          "output_type": "stream",
          "name": "stdout",
          "text": [
            "0\n"
          ]
        }
      ]
    },
    {
      "cell_type": "code",
      "source": [
        "# Exponenciación\n",
        "print(a**b)"
      ],
      "metadata": {
        "colab": {
          "base_uri": "https://localhost:8080/"
        },
        "id": "JEmcJPh4BWiv",
        "outputId": "e692b9c5-819c-4bae-e223-d1e9c3d3c35e"
      },
      "execution_count": 116,
      "outputs": [
        {
          "output_type": "stream",
          "name": "stdout",
          "text": [
            "100000\n"
          ]
        }
      ]
    },
    {
      "cell_type": "code",
      "source": [
        "# Asignación compuesta\n",
        "a+=b\n",
        "print(a)"
      ],
      "metadata": {
        "colab": {
          "base_uri": "https://localhost:8080/"
        },
        "id": "NThEn3mBBlhr",
        "outputId": "81908dcb-de00-4bca-8bf2-4f8482b484a8"
      },
      "execution_count": 117,
      "outputs": [
        {
          "output_type": "stream",
          "name": "stdout",
          "text": [
            "15\n"
          ]
        }
      ]
    },
    {
      "cell_type": "code",
      "source": [
        "a-=b\n",
        "print(a)"
      ],
      "metadata": {
        "colab": {
          "base_uri": "https://localhost:8080/"
        },
        "id": "kCyf2JQ4B4x-",
        "outputId": "e609e855-e86d-4cc0-9afe-d05745e43d46"
      },
      "execution_count": 118,
      "outputs": [
        {
          "output_type": "stream",
          "name": "stdout",
          "text": [
            "10\n"
          ]
        }
      ]
    },
    {
      "cell_type": "code",
      "source": [
        "# Redondeo\n",
        "var4=3.1410\n",
        "print(round(var4,2))"
      ],
      "metadata": {
        "colab": {
          "base_uri": "https://localhost:8080/"
        },
        "id": "6NR0zKdEClp1",
        "outputId": "a5b1e83d-231e-4dc2-b2dc-f28af63059f9"
      },
      "execution_count": 119,
      "outputs": [
        {
          "output_type": "stream",
          "name": "stdout",
          "text": [
            "3.14\n"
          ]
        }
      ]
    },
    {
      "cell_type": "markdown",
      "source": [
        "## 5. Ejercicio en clase\n",
        "\n",
        "1. Declara dos  variables a y b con los valores 10 y 3, respectivamente.\n",
        "2. Calcula la suma de a y b y asígnala a una variable suma.\n",
        "3. Calcula la resta de a y b y asígnala a una variable resta.\n",
        "4. Calcula la multiplicación de a y b y asígnala a una variable multiplicación.\n",
        "5. Calcula la división de a entre b y asígnala a una variable división.\n",
        "6. Calcula el módulo de a y b y asígnalo a una variable módulo.\n",
        "7. Calcula la potencia de a elevado a b y asígnala a una variable potencia.\n",
        "8. Calcula la división entera de a entre b y asígnala a una variable division_entera."
      ],
      "metadata": {
        "id": "NUrFMBiEDnuu"
      }
    },
    {
      "cell_type": "code",
      "source": [
        "# 1.\n",
        "a=10\n",
        "b=3"
      ],
      "metadata": {
        "id": "TZ2gTSXIDVNy"
      },
      "execution_count": 121,
      "outputs": []
    },
    {
      "cell_type": "code",
      "source": [
        "from binascii import b2a_base64\n",
        "# 2.\n",
        "suma=a+b\n",
        "print(suma)\n",
        "# 3.\n",
        "resta=a-b\n",
        "print(resta)\n",
        "# 4.\n",
        "multiplicación=a*b\n",
        "print(multiplicación)\n",
        "# 5.\n",
        "división=a/b\n",
        "print(división)\n",
        "# 6.\n",
        "módulo=a%b\n",
        "print(módulo)\n",
        "# 7.\n",
        "potencia=a**b\n",
        "print(potencia)\n",
        "# 8.\n",
        "división_entera=a//b\n",
        "print(división_entera)"
      ],
      "metadata": {
        "colab": {
          "base_uri": "https://localhost:8080/"
        },
        "id": "1UIl0t4OFXvw",
        "outputId": "f8f98d80-0d5a-4db9-82c7-b19ed3bac324"
      },
      "execution_count": 128,
      "outputs": [
        {
          "output_type": "stream",
          "name": "stdout",
          "text": [
            "13\n",
            "7\n",
            "30\n",
            "3.3333333333333335\n",
            "1\n",
            "1000\n",
            "3\n"
          ]
        }
      ]
    },
    {
      "cell_type": "code",
      "source": [
        "# FINAL DEL CODIGO"
      ],
      "metadata": {
        "id": "JzlInKiGFcTo"
      },
      "execution_count": null,
      "outputs": []
    }
  ]
}