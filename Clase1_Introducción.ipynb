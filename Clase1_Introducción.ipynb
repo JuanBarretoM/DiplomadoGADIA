{
  "nbformat": 4,
  "nbformat_minor": 0,
  "metadata": {
    "colab": {
      "provenance": [],
      "toc_visible": true,
      "authorship_tag": "ABX9TyMY6muN64XUk0k0DCz54vUq",
      "include_colab_link": true
    },
    "kernelspec": {
      "name": "python3",
      "display_name": "Python 3"
    },
    "language_info": {
      "name": "python"
    }
  },
  "cells": [
    {
      "cell_type": "markdown",
      "metadata": {
        "id": "view-in-github",
        "colab_type": "text"
      },
      "source": [
        "<a href=\"https://colab.research.google.com/github/JuanBarretoM/DiplomadoGADIA/blob/main/Clase1_Introducci%C3%B3n.ipynb\" target=\"_parent\"><img src=\"https://colab.research.google.com/assets/colab-badge.svg\" alt=\"Open In Colab\"/></a>"
      ]
    },
    {
      "cell_type": "code",
      "execution_count": 232,
      "metadata": {
        "id": "179NGODyosUI"
      },
      "outputs": [],
      "source": []
    },
    {
      "cell_type": "markdown",
      "source": [
        "**INTRODICIÓN A PYTHON**\n",
        "\n",
        "DIPLOMADO EN GOBIERNO DE DATOS\n",
        "\n",
        "FUNDACIÓN UNIVERSITARIA CAFAM\n",
        "\n",
        "DOCENTE: NICOLAS MOJICA GOMEZ\n",
        "\n",
        "ESTUDIANTES: JUAN SEBASTIAN BARRETO MORENO\n",
        "\n",
        "\n",
        "\n",
        "\n",
        "\n",
        "---\n",
        "\n"
      ],
      "metadata": {
        "id": "6jNabM5RqJP1"
      }
    },
    {
      "cell_type": "markdown",
      "source": [
        "## 1. Comentarios en los códigos\n",
        "\n",
        "Para documentar códigos en PYTHON exiten diferentes formas de crear comentarios, esto nos permite documentar nuestras secuencias de comandos para su análisis y/o posterior modificación."
      ],
      "metadata": {
        "id": "Vu-0n9FDrzg7"
      }
    },
    {
      "cell_type": "code",
      "source": [
        "# Este comentario es de una sola línea\n",
        "# Python es un progama sensible a las mayusculas y las minusculas.\n",
        "print(\"Hola Mundo\")"
      ],
      "metadata": {
        "colab": {
          "base_uri": "https://localhost:8080/"
        },
        "id": "GIRlV2k_rxaG",
        "outputId": "96273335-59b6-4362-a067-69e7adccbb40"
      },
      "execution_count": 233,
      "outputs": [
        {
          "output_type": "stream",
          "name": "stdout",
          "text": [
            "Hola Mundo\n"
          ]
        }
      ]
    },
    {
      "cell_type": "code",
      "source": [
        "'''\n",
        " Este comentario es de multiples líneas,\n",
        " puede extenderse en varias lineas\n",
        "'''\n",
        "print (\"Adiós Mundo\")"
      ],
      "metadata": {
        "colab": {
          "base_uri": "https://localhost:8080/"
        },
        "id": "hURyhoABvm-a",
        "outputId": "14711ada-6679-4cfe-92b0-3b7cb542ba74"
      },
      "execution_count": 234,
      "outputs": [
        {
          "output_type": "stream",
          "name": "stdout",
          "text": [
            "Adiós Mundo\n"
          ]
        }
      ]
    },
    {
      "cell_type": "markdown",
      "source": [
        "## 2. Variables\n",
        "\n",
        "Una variable es un elemento de un lenguaje de programación que tiene asignado un valor determinado."
      ],
      "metadata": {
        "id": "0xVIYWdOwWel"
      }
    },
    {
      "cell_type": "code",
      "source": [
        "# Para crear una variable en Phyton se le debe proporcionar un nombre y se le debe asignar un valor usando un igual\n",
        "var=\"Hola mundo 2\"\n",
        "print(var)"
      ],
      "metadata": {
        "colab": {
          "base_uri": "https://localhost:8080/"
        },
        "id": "7ap52ii0wK2D",
        "outputId": "67ce5186-c495-498e-8885-980ec21bc186"
      },
      "execution_count": 235,
      "outputs": [
        {
          "output_type": "stream",
          "name": "stdout",
          "text": [
            "Hola mundo 2\n"
          ]
        }
      ]
    },
    {
      "cell_type": "code",
      "source": [
        "# Las variables pueden cambiar a lo largo del programa de Phyton.\n",
        "var=\"Adiós mundo 2\"\n",
        "print(var)"
      ],
      "metadata": {
        "colab": {
          "base_uri": "https://localhost:8080/"
        },
        "id": "B3A58AbTxww3",
        "outputId": "b387285f-b679-4165-8432-3b814cd71431"
      },
      "execution_count": 236,
      "outputs": [
        {
          "output_type": "stream",
          "name": "stdout",
          "text": [
            "Adiós mundo 2\n"
          ]
        }
      ]
    },
    {
      "cell_type": "markdown",
      "source": [
        "## 3. Tipos de datos"
      ],
      "metadata": {
        "id": "_-4Pv0n74Zcu"
      }
    },
    {
      "cell_type": "code",
      "source": [
        "# Tipos de datos numericos\n",
        "entero=42\n",
        "# En la mayor parte de la programación los enteros son representados con \"int\""
      ],
      "metadata": {
        "id": "M34KwtsdyB8r"
      },
      "execution_count": 237,
      "outputs": []
    },
    {
      "cell_type": "code",
      "source": [
        "# Tipo de dato flotante\n",
        "flotante=3.14151"
      ],
      "metadata": {
        "id": "bi7UVGB55rtS"
      },
      "execution_count": 238,
      "outputs": []
    },
    {
      "cell_type": "code",
      "source": [
        "# Conversión de los tipos de datos\n",
        "# Convertir un flotante a un número entero\n",
        "entero=int(3.14)\n",
        "print(entero)"
      ],
      "metadata": {
        "colab": {
          "base_uri": "https://localhost:8080/"
        },
        "id": "3VuqrsKK6GTN",
        "outputId": "b8b43bc1-e8c1-48c5-f0c9-f3f3322928bb"
      },
      "execution_count": 239,
      "outputs": [
        {
          "output_type": "stream",
          "name": "stdout",
          "text": [
            "3\n"
          ]
        }
      ]
    },
    {
      "cell_type": "code",
      "source": [
        "# Convertir un entero en flotante\n",
        "flotante=float(5)\n",
        "print(flotante)"
      ],
      "metadata": {
        "colab": {
          "base_uri": "https://localhost:8080/"
        },
        "id": "ZC1ra6iX7DmQ",
        "outputId": "c8581a7c-f76a-405b-a2e8-0d7c397f3038"
      },
      "execution_count": 240,
      "outputs": [
        {
          "output_type": "stream",
          "name": "stdout",
          "text": [
            "5.0\n"
          ]
        }
      ]
    },
    {
      "cell_type": "markdown",
      "source": [
        "## 4. Operadores aritméticos\n",
        "\n",
        "Los operadores matemáticos se utilizan para realizar operaciones comúnes cómo: la adición, multiplicación, división, sustracción, etc."
      ],
      "metadata": {
        "id": "4J8JojMi7maO"
      }
    },
    {
      "cell_type": "code",
      "source": [
        "# Suma\n",
        "a=10\n",
        "b=5\n",
        "print(a+b)"
      ],
      "metadata": {
        "colab": {
          "base_uri": "https://localhost:8080/"
        },
        "id": "4mXG9M9-7Svo",
        "outputId": "bd4ff6a9-d79f-47fb-c175-1dc911f0ee7b"
      },
      "execution_count": 241,
      "outputs": [
        {
          "output_type": "stream",
          "name": "stdout",
          "text": [
            "15\n"
          ]
        }
      ]
    },
    {
      "cell_type": "code",
      "source": [
        "# Resta\n",
        "c=a-b\n",
        "print(c)"
      ],
      "metadata": {
        "colab": {
          "base_uri": "https://localhost:8080/"
        },
        "id": "rHo_6VXC8abv",
        "outputId": "fb6ecf48-beb5-4cfd-8057-dab7658cad0d"
      },
      "execution_count": 242,
      "outputs": [
        {
          "output_type": "stream",
          "name": "stdout",
          "text": [
            "5\n"
          ]
        }
      ]
    },
    {
      "cell_type": "code",
      "source": [
        "# Multiplicación\n",
        "d=a*b\n",
        "print(d)"
      ],
      "metadata": {
        "colab": {
          "base_uri": "https://localhost:8080/"
        },
        "id": "xm-1BW1V8gxs",
        "outputId": "6bebfe5c-6424-498f-c0d8-4205f7599ba5"
      },
      "execution_count": 243,
      "outputs": [
        {
          "output_type": "stream",
          "name": "stdout",
          "text": [
            "50\n"
          ]
        }
      ]
    },
    {
      "cell_type": "code",
      "source": [
        "# División\n",
        "e=a/b\n",
        "print(e)"
      ],
      "metadata": {
        "colab": {
          "base_uri": "https://localhost:8080/"
        },
        "id": "efmDEbnA8qZT",
        "outputId": "c148484e-aaee-433d-f70c-5f30ea0856a2"
      },
      "execution_count": 244,
      "outputs": [
        {
          "output_type": "stream",
          "name": "stdout",
          "text": [
            "2.0\n"
          ]
        }
      ]
    },
    {
      "cell_type": "code",
      "source": [
        "# División entera\n",
        "print(a//b)"
      ],
      "metadata": {
        "colab": {
          "base_uri": "https://localhost:8080/"
        },
        "id": "Jr0WmDqQA0Yr",
        "outputId": "94866e9a-7f02-451e-b539-a70255b8307b"
      },
      "execution_count": 245,
      "outputs": [
        {
          "output_type": "stream",
          "name": "stdout",
          "text": [
            "2\n"
          ]
        }
      ]
    },
    {
      "cell_type": "code",
      "source": [
        "# Módulo (Este nos dá el residuo de una operación)\n",
        "print(a%b)"
      ],
      "metadata": {
        "colab": {
          "base_uri": "https://localhost:8080/"
        },
        "id": "EOYPqHhpBATs",
        "outputId": "0d2cc135-c4fb-4041-db8a-f7f7b78146a0"
      },
      "execution_count": 246,
      "outputs": [
        {
          "output_type": "stream",
          "name": "stdout",
          "text": [
            "0\n"
          ]
        }
      ]
    },
    {
      "cell_type": "code",
      "source": [
        "# Exponenciación\n",
        "print(a**b)"
      ],
      "metadata": {
        "colab": {
          "base_uri": "https://localhost:8080/"
        },
        "id": "JEmcJPh4BWiv",
        "outputId": "8c6c3b00-ee4f-404c-f1b0-e77ab231453c"
      },
      "execution_count": 247,
      "outputs": [
        {
          "output_type": "stream",
          "name": "stdout",
          "text": [
            "100000\n"
          ]
        }
      ]
    },
    {
      "cell_type": "code",
      "source": [
        "# Asignación compuesta\n",
        "a+=b\n",
        "print(a)"
      ],
      "metadata": {
        "colab": {
          "base_uri": "https://localhost:8080/"
        },
        "id": "NThEn3mBBlhr",
        "outputId": "05a287a9-13f6-4659-c984-da72000e8dc3"
      },
      "execution_count": 248,
      "outputs": [
        {
          "output_type": "stream",
          "name": "stdout",
          "text": [
            "15\n"
          ]
        }
      ]
    },
    {
      "cell_type": "code",
      "source": [
        "a-=b\n",
        "print(a)"
      ],
      "metadata": {
        "colab": {
          "base_uri": "https://localhost:8080/"
        },
        "id": "kCyf2JQ4B4x-",
        "outputId": "bce17bea-7c02-47d8-f208-652a8c047380"
      },
      "execution_count": 249,
      "outputs": [
        {
          "output_type": "stream",
          "name": "stdout",
          "text": [
            "10\n"
          ]
        }
      ]
    },
    {
      "cell_type": "code",
      "source": [
        "# Redondeo\n",
        "var4=3.1410\n",
        "print(round(var4,2))"
      ],
      "metadata": {
        "colab": {
          "base_uri": "https://localhost:8080/"
        },
        "id": "6NR0zKdEClp1",
        "outputId": "613aab1e-0158-411e-ccfa-9dd276ee52a7"
      },
      "execution_count": 250,
      "outputs": [
        {
          "output_type": "stream",
          "name": "stdout",
          "text": [
            "3.14\n"
          ]
        }
      ]
    },
    {
      "cell_type": "markdown",
      "source": [
        "## Ejercicio en clase\n",
        "\n",
        "1. Declara dos  variables a y b con los valores 10 y 3, respectivamente.\n",
        "2. Calcula la suma de a y b y asígnala a una variable suma.\n",
        "3. Calcula la resta de a y b y asígnala a una variable resta.\n",
        "4. Calcula la multiplicación de a y b y asígnala a una variable multiplicación.\n",
        "5. Calcula la división de a entre b y asígnala a una variable división.\n",
        "6. Calcula el módulo de a y b y asígnalo a una variable módulo.\n",
        "7. Calcula la potencia de a elevado a b y asígnala a una variable potencia.\n",
        "8. Calcula la división entera de a entre b y asígnala a una variable division_entera."
      ],
      "metadata": {
        "id": "NUrFMBiEDnuu"
      }
    },
    {
      "cell_type": "code",
      "source": [
        "# 1.\n",
        "a=10\n",
        "b=3"
      ],
      "metadata": {
        "id": "TZ2gTSXIDVNy"
      },
      "execution_count": 251,
      "outputs": []
    },
    {
      "cell_type": "code",
      "source": [
        "from binascii import b2a_base64\n",
        "# 2.\n",
        "suma=a+b\n",
        "print(suma)\n",
        "# 3.\n",
        "resta=a-b\n",
        "print(resta)\n",
        "# 4.\n",
        "multiplicación=a*b\n",
        "print(multiplicación)\n",
        "# 5.\n",
        "división=a/b\n",
        "print(división)\n",
        "# 6.\n",
        "módulo=a%b\n",
        "print(módulo)\n",
        "# 7.\n",
        "potencia=a**b\n",
        "print(potencia)\n",
        "# 8.\n",
        "división_entera=a//b\n",
        "print(división_entera)"
      ],
      "metadata": {
        "colab": {
          "base_uri": "https://localhost:8080/"
        },
        "id": "1UIl0t4OFXvw",
        "outputId": "300fcbd2-ee1e-49d7-98ca-96d0a3acced5"
      },
      "execution_count": 252,
      "outputs": [
        {
          "output_type": "stream",
          "name": "stdout",
          "text": [
            "13\n",
            "7\n",
            "30\n",
            "3.3333333333333335\n",
            "1\n",
            "1000\n",
            "3\n"
          ]
        }
      ]
    },
    {
      "cell_type": "markdown",
      "source": [
        "## CLASE 2\n",
        "\n",
        "## 5. Textos o valres String\n",
        "\n",
        "En Python los valres de cadena se identifican a través de \"STR\"."
      ],
      "metadata": {
        "id": "F87YwbsgmguJ"
      }
    },
    {
      "cell_type": "code",
      "source": [
        "cadena_simple='Hola, mundo'\n",
        "cadena_doble=\"Hola, mundo\"\n",
        "cadena_multiple=\"\"\"Esta es\n",
        "una cadena\n",
        "que ocupa\n",
        "varias líneas\"\"\""
      ],
      "metadata": {
        "id": "w_09HIJ7nuyf"
      },
      "execution_count": 253,
      "outputs": []
    },
    {
      "cell_type": "code",
      "source": [
        "# Operaciones básicas con cadenas\n",
        "  # La concatenación\n",
        "saludo=\"Hola\"\n",
        "nombre=\"Mundo\"\n",
        "mensaje=saludo+\" , \"+nombre\n",
        "print(mensaje)"
      ],
      "metadata": {
        "id": "JzlInKiGFcTo",
        "colab": {
          "base_uri": "https://localhost:8080/"
        },
        "outputId": "c52ddd56-088c-4b35-83da-8d8f09a9694d"
      },
      "execution_count": 254,
      "outputs": [
        {
          "output_type": "stream",
          "name": "stdout",
          "text": [
            "Hola , Mundo\n"
          ]
        }
      ]
    },
    {
      "cell_type": "code",
      "source": [
        "# La repetición\n",
        "repetir=\"Hola\"*3\n",
        "print(repetir)"
      ],
      "metadata": {
        "colab": {
          "base_uri": "https://localhost:8080/"
        },
        "id": "sWyu6W_KpegX",
        "outputId": "21b1ae7a-d196-4491-e0c9-4482d6342b33"
      },
      "execution_count": 255,
      "outputs": [
        {
          "output_type": "stream",
          "name": "stdout",
          "text": [
            "HolaHolaHola\n"
          ]
        }
      ]
    },
    {
      "cell_type": "code",
      "source": [
        "# La indexación: Accerder a caracteres individuales usando indices.\n",
        "primer_caracter=mensaje[5]\n",
        "print(primer_caracter)"
      ],
      "metadata": {
        "colab": {
          "base_uri": "https://localhost:8080/"
        },
        "id": "R6s_VnU7pvQn",
        "outputId": "8eef0849-90c6-4516-839e-2e2e8bac48f1"
      },
      "execution_count": 256,
      "outputs": [
        {
          "output_type": "stream",
          "name": "stdout",
          "text": [
            ",\n"
          ]
        }
      ]
    },
    {
      "cell_type": "code",
      "source": [
        "# Slicing: Obtiene subadenas usando una notación de rango.\n",
        "# Obtener la palabra {Hola} de la variable \"mensaje\".\n",
        "sub_cadena=mensaje[0:4]\n",
        "print(sub_cadena)"
      ],
      "metadata": {
        "colab": {
          "base_uri": "https://localhost:8080/"
        },
        "id": "Fk4_la7SqSZM",
        "outputId": "a74ae7ea-3068-4b83-8e2a-31601fd26763"
      },
      "execution_count": 257,
      "outputs": [
        {
          "output_type": "stream",
          "name": "stdout",
          "text": [
            "Hola\n"
          ]
        }
      ]
    },
    {
      "cell_type": "code",
      "source": [
        "cadena=\" python  es  GENIAL \"\n",
        "# Métodos de cadenas.\n",
        "# mayúsculas.\n",
        "print(cadena.upper())\n",
        "# MINÚSCULAS.\n",
        "print(cadena.lower())\n",
        "# Elimina espacios al inicio y la final de una cadena.\n",
        "print(cadena.strip())\n",
        "# Reemplazo de caracteres.\n",
        "print(cadena.replace(\"GENIAL\",\"increible\"))\n",
        "# Separación de las cadenas.\n",
        "print(cadena.split(\" \"))\n",
        "# Unión de cadenas.\n",
        "print(\" \".join(['python','es','GENIAL']))"
      ],
      "metadata": {
        "colab": {
          "base_uri": "https://localhost:8080/"
        },
        "id": "kTDXl-yNrN34",
        "outputId": "85e3b99f-acef-40a2-ff57-e04958d4f627"
      },
      "execution_count": 258,
      "outputs": [
        {
          "output_type": "stream",
          "name": "stdout",
          "text": [
            " PYTHON  ES  GENIAL \n",
            " python  es  genial \n",
            "python  es  GENIAL\n",
            " python  es  increible \n",
            "['', 'python', '', 'es', '', 'GENIAL', '']\n",
            "python es GENIAL\n"
          ]
        }
      ]
    },
    {
      "cell_type": "markdown",
      "source": [
        "## 6. Estructuras de datos"
      ],
      "metadata": {
        "id": "S2U62hS7yOvv"
      }
    },
    {
      "cell_type": "markdown",
      "source": [
        "![Tabla de Script.png](data:image/png;base64,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)"
      ],
      "metadata": {
        "id": "NeNaB-txyW-t"
      }
    },
    {
      "cell_type": "code",
      "source": [
        "# Lista:\n",
        "\"\"\"Las listas en Python son una de las estructuras de datos más utilizadas debido a su flexibilidad y capacidad para almacenar diferentes tipos de datos.\n",
        " Aquí te explico en detalle cómo funcionan las listas y cómo puedes utilizarlas.\"\"\""
      ],
      "metadata": {
        "colab": {
          "base_uri": "https://localhost:8080/",
          "height": 53
        },
        "id": "dduyPtb5sBJy",
        "outputId": "b37b4896-2d28-4e3a-bcc8-d2f3e9691336"
      },
      "execution_count": 259,
      "outputs": [
        {
          "output_type": "execute_result",
          "data": {
            "text/plain": [
              "'Las listas en Python son una de las estructuras de datos más utilizadas debido a su flexibilidad y capacidad para almacenar diferentes tipos de datos. \\n Aquí te explico en detalle cómo funcionan las listas y cómo puedes utilizarlas.'"
            ],
            "application/vnd.google.colaboratory.intrinsic+json": {
              "type": "string"
            }
          },
          "metadata": {},
          "execution_count": 259
        }
      ]
    },
    {
      "cell_type": "code",
      "source": [
        "# Creando un lista básica\n",
        "mi_lista=[]\n",
        "\n",
        "# Crear lista con elemnentos\n",
        "mi_lista=[1,2,3,\"cuatro\",5.0,True]\n",
        "\n",
        "# Accediendo a elementos de la lista\n",
        "mi_lista = [10, 20, 30, 40, 50]\n",
        "\n",
        "# Acceder al terce elemento\n",
        "print(mi_lista[2])\n",
        "print(mi_lista[True*2])\n",
        "\n",
        "# Acceder al último elemento\n",
        "print(mi_lista[-1])\n",
        "print(mi_lista[False-1])\n"
      ],
      "metadata": {
        "colab": {
          "base_uri": "https://localhost:8080/"
        },
        "id": "6WydLel70EsN",
        "outputId": "383529fd-76e4-4316-c379-57f963d5248c"
      },
      "execution_count": 260,
      "outputs": [
        {
          "output_type": "stream",
          "name": "stdout",
          "text": [
            "30\n",
            "30\n",
            "50\n",
            "50\n"
          ]
        }
      ]
    },
    {
      "cell_type": "code",
      "source": [
        "# Modificación de listas.\n",
        "# Cambiar en mi lista el {30} por un {1}.\n",
        "mi_lista[2]=1\n",
        "print(mi_lista)\n"
      ],
      "metadata": {
        "colab": {
          "base_uri": "https://localhost:8080/"
        },
        "id": "gHtdmvfh0637",
        "outputId": "4e61922e-fc60-4a31-dbe0-54e340f578a1"
      },
      "execution_count": 261,
      "outputs": [
        {
          "output_type": "stream",
          "name": "stdout",
          "text": [
            "[10, 20, 1, 40, 50]\n"
          ]
        }
      ]
    },
    {
      "cell_type": "code",
      "source": [
        "# Agragar nuevos elementos a una lista.\n",
        "mi_lista=[1,2,3]\n",
        "\n",
        "# Agregar un elemento al final de la lista.\n",
        "mi_lista.append(4)\n",
        "\n",
        "print(mi_lista)"
      ],
      "metadata": {
        "colab": {
          "base_uri": "https://localhost:8080/"
        },
        "id": "wDeaq9Sz4mWS",
        "outputId": "57b9cee4-06f4-47f4-8665-de36b19a2993"
      },
      "execution_count": 262,
      "outputs": [
        {
          "output_type": "stream",
          "name": "stdout",
          "text": [
            "[1, 2, 3, 4]\n"
          ]
        }
      ]
    },
    {
      "cell_type": "code",
      "source": [
        "# Insertar un elemento en la lista en una posición específica.\n",
        "mi_lista.insert(1,1.5)\n",
        "print(mi_lista)"
      ],
      "metadata": {
        "colab": {
          "base_uri": "https://localhost:8080/"
        },
        "id": "KyQMGBoO5oxC",
        "outputId": "cda84e9b-8991-479a-fcce-ea7b2715ec5d"
      },
      "execution_count": 263,
      "outputs": [
        {
          "output_type": "stream",
          "name": "stdout",
          "text": [
            "[1, 1.5, 2, 3, 4]\n"
          ]
        }
      ]
    },
    {
      "cell_type": "code",
      "source": [
        "# Agregar varios elementos a una lista\n",
        "mi_lista.extend([5,6,7])\n",
        "print(mi_lista)"
      ],
      "metadata": {
        "colab": {
          "base_uri": "https://localhost:8080/"
        },
        "id": "JwIRXcdn6ILl",
        "outputId": "7c6d246e-6c74-4b48-b8c4-46bae0564ef6"
      },
      "execution_count": 264,
      "outputs": [
        {
          "output_type": "stream",
          "name": "stdout",
          "text": [
            "[1, 1.5, 2, 3, 4, 5, 6, 7]\n"
          ]
        }
      ]
    },
    {
      "cell_type": "code",
      "source": [
        "# Eliminar un elemento específico de mi lista.\n",
        "mi_lista.remove(1.5)\n",
        "print(mi_lista)"
      ],
      "metadata": {
        "colab": {
          "base_uri": "https://localhost:8080/"
        },
        "id": "OlN2909f6R71",
        "outputId": "3e47a5d3-bf57-4bf3-ce6d-2fcf14d569e6"
      },
      "execution_count": 265,
      "outputs": [
        {
          "output_type": "stream",
          "name": "stdout",
          "text": [
            "[1, 2, 3, 4, 5, 6, 7]\n"
          ]
        }
      ]
    },
    {
      "cell_type": "code",
      "source": [
        "# Eliminar un elemento por una posición específica.\n",
        "del mi_lista[3]\n",
        "print(mi_lista)"
      ],
      "metadata": {
        "colab": {
          "base_uri": "https://localhost:8080/"
        },
        "id": "IyIYKSZF6etH",
        "outputId": "be44e626-2c31-4a2f-e39f-8f8788bc118d"
      },
      "execution_count": 266,
      "outputs": [
        {
          "output_type": "stream",
          "name": "stdout",
          "text": [
            "[1, 2, 3, 5, 6, 7]\n"
          ]
        }
      ]
    },
    {
      "cell_type": "markdown",
      "source": [
        "## Ejercicio en clase 1: Creación y Modificación de Listas\n",
        "  1. Crea una lista llamada números que contenga los números del 1 al 5.\n",
        "  2. Añade el número 6 al final de la lista [número]\n",
        "  3. Cambia el segundo elemento de la lista [número] a 10\n",
        "  4. Elimina el cuarto elemento de la lista [número]\n",
        "\n",
        "## Ejercicio en clase 2: Creación de Tuplas\n",
        "  1. Crea una tupla llamada (colores) que contenga los colores \"rojo\", \"verde\", y \"azul\".\n",
        "  2. Accede al primer elemento de la tupla colores.\n",
        "\n"
      ],
      "metadata": {
        "id": "-5QQhmFL9DdK"
      }
    },
    {
      "cell_type": "code",
      "source": [
        "# Lista\n",
        "# 1.\n",
        "números=[1, 2, 3, 4, 5]\n",
        "print(números)\n",
        "# 2.\n",
        "números.append(6)\n",
        "print(números)\n",
        "# 3.\n",
        "números[1]=10\n",
        "print(números)\n",
        "# 4.\n",
        "números.remove(3)\n",
        "print(números)"
      ],
      "metadata": {
        "colab": {
          "base_uri": "https://localhost:8080/"
        },
        "id": "Z9hfHcop8jvQ",
        "outputId": "afbada32-390a-4070-9e96-71126d0139fa"
      },
      "execution_count": 267,
      "outputs": [
        {
          "output_type": "stream",
          "name": "stdout",
          "text": [
            "[1, 2, 3, 4, 5]\n",
            "[1, 2, 3, 4, 5, 6]\n",
            "[1, 10, 3, 4, 5, 6]\n",
            "[1, 10, 4, 5, 6]\n"
          ]
        }
      ]
    },
    {
      "cell_type": "code",
      "source": [
        "# Tupla\n",
        "# 1.\n",
        "colores=(\"rojo\",\"verde\",\"azul\")\n",
        "print(colores)\n",
        "# 2.\n",
        "print(colores[0])"
      ],
      "metadata": {
        "colab": {
          "base_uri": "https://localhost:8080/"
        },
        "id": "AwTmy_qj_6KK",
        "outputId": "444d0456-bfa2-46ce-9cf8-524c44fb3789"
      },
      "execution_count": 268,
      "outputs": [
        {
          "output_type": "stream",
          "name": "stdout",
          "text": [
            "('rojo', 'verde', 'azul')\n",
            "rojo\n"
          ]
        }
      ]
    },
    {
      "cell_type": "markdown",
      "source": [
        "## 6. Diccionario\n",
        "\n",
        "En Python, los diccionarios son una estructura de datos muy versátil y útil. Son colecciones no ordenadas de pares clave-valor, donde cada clave es única y se asocia a un valor. Aquí te explico los aspectos básicos y algunas características avanzadas:"
      ],
      "metadata": {
        "id": "ILaQqaGyA-rd"
      }
    },
    {
      "cell_type": "code",
      "source": [
        "# Sets\n",
        "mi_diccionario={\n",
        "    \"nombre\":\"Ana\",\n",
        "    \"edad\":30,\n",
        "    \"ciudad\":\"Bogotá\"}"
      ],
      "metadata": {
        "id": "EGeoC7bTA0RF"
      },
      "execution_count": 269,
      "outputs": []
    },
    {
      "cell_type": "code",
      "source": [
        "# Crear lista vacia para luego agregar datos\n",
        "inventario={}\n",
        "# Agregar elementos a un diccionario\n",
        "inventario[\"manzanas\"]=50\n",
        "inventario[\"naranjas\"]=30\n",
        "print(inventario)"
      ],
      "metadata": {
        "colab": {
          "base_uri": "https://localhost:8080/"
        },
        "id": "rBrVy5CJCLpH",
        "outputId": "2723c931-4deb-4158-d195-c80798805bac"
      },
      "execution_count": 270,
      "outputs": [
        {
          "output_type": "stream",
          "name": "stdout",
          "text": [
            "{'manzanas': 50, 'naranjas': 30}\n"
          ]
        }
      ]
    },
    {
      "cell_type": "code",
      "source": [
        "# Acceso a los elementos de un diccionario se hace a partir del nombre del elemento\n",
        "print(mi_diccionario[\"edad\"])"
      ],
      "metadata": {
        "colab": {
          "base_uri": "https://localhost:8080/"
        },
        "id": "xbTZBFIQCwFd",
        "outputId": "e75933df-12a3-4c27-addb-cee0e4031b49"
      },
      "execution_count": 271,
      "outputs": [
        {
          "output_type": "stream",
          "name": "stdout",
          "text": [
            "30\n"
          ]
        }
      ]
    },
    {
      "cell_type": "code",
      "source": [
        "# Modificar un elemento de un diccionario\n",
        "mi_diccionario[\"edad\"]=35\n",
        "print(mi_diccionario)"
      ],
      "metadata": {
        "colab": {
          "base_uri": "https://localhost:8080/"
        },
        "id": "krIERFFJDKe4",
        "outputId": "3437aea8-e4db-48f9-f756-9093f7228ac6"
      },
      "execution_count": 272,
      "outputs": [
        {
          "output_type": "stream",
          "name": "stdout",
          "text": [
            "{'nombre': 'Ana', 'edad': 35, 'ciudad': 'Bogotá'}\n"
          ]
        }
      ]
    },
    {
      "cell_type": "code",
      "source": [
        "# Eliminar elementos del diccionario\n",
        "del mi_diccionario[\"ciudad\"]\n",
        "print(mi_diccionario)"
      ],
      "metadata": {
        "colab": {
          "base_uri": "https://localhost:8080/"
        },
        "id": "DIQbjm6zDknM",
        "outputId": "6bc8644c-81cc-4f6a-8ef0-460a04b05e77"
      },
      "execution_count": 273,
      "outputs": [
        {
          "output_type": "stream",
          "name": "stdout",
          "text": [
            "{'nombre': 'Ana', 'edad': 35}\n"
          ]
        }
      ]
    },
    {
      "cell_type": "markdown",
      "source": [
        "## Ejercicio en clase 3: Creación y Modificación de Diccionarios\n",
        "\n",
        "  1. Crea un diccionario llamado {persona} con las claves \"Nombre\", \"Edad\" y \"Ciudad\".\n",
        "  2. Cambia el valor de edad a 31.\n",
        "  3. Añade una nueva clave profesión con el valor \"Ingeniero\".\n",
        "  4. Elimina la clave \"Ciudad\" del diccionario persona."
      ],
      "metadata": {
        "id": "pF4EUqprEB5q"
      }
    },
    {
      "cell_type": "code",
      "source": [
        "# 1.\n",
        "personas={\n",
        "    \"Nombre\":\"Sebastián\",\n",
        "    \"Edad\":22,\n",
        "    \"Ciudad\":\"Bogotá\"}\n",
        "print(personas)\n",
        "# 2.\n",
        "personas[\"Edad\"]=31\n",
        "print(personas)\n",
        "# 3.\n",
        "personas[\"Profesión\"]=\"Ingeniero\"\n",
        "print(personas)\n",
        "# 4.\n",
        "del personas[\"Ciudad\"]\n",
        "print(personas)"
      ],
      "metadata": {
        "colab": {
          "base_uri": "https://localhost:8080/"
        },
        "id": "c12HkC1qD1w0",
        "outputId": "11cf5a59-9004-41d1-82ea-f88980899dc3"
      },
      "execution_count": 277,
      "outputs": [
        {
          "output_type": "stream",
          "name": "stdout",
          "text": [
            "{'Nombre': 'Sebastián', 'Edad': 22, 'Ciudad': 'Bogotá'}\n",
            "{'Nombre': 'Sebastián', 'Edad': 31, 'Ciudad': 'Bogotá'}\n",
            "{'Nombre': 'Sebastián', 'Edad': 31, 'Ciudad': 'Bogotá', 'Profesión': 'Ingeniero'}\n",
            "{'Nombre': 'Sebastián', 'Edad': 31, 'Profesión': 'Ingeniero'}\n"
          ]
        }
      ]
    },
    {
      "cell_type": "code",
      "source": [],
      "metadata": {
        "id": "ZlqML-lfFPf_"
      },
      "execution_count": null,
      "outputs": []
    }
  ]
}