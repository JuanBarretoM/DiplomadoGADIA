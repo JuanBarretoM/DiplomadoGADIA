{
  "nbformat": 4,
  "nbformat_minor": 0,
  "metadata": {
    "colab": {
      "provenance": [],
      "authorship_tag": "ABX9TyNXwApxXAPzoDIQl9GXpB98",
      "include_colab_link": true
    },
    "kernelspec": {
      "name": "python3",
      "display_name": "Python 3"
    },
    "language_info": {
      "name": "python"
    }
  },
  "cells": [
    {
      "cell_type": "markdown",
      "metadata": {
        "id": "view-in-github",
        "colab_type": "text"
      },
      "source": [
        "<a href=\"https://colab.research.google.com/github/JuanBarretoM/DiplomadoGADIA/blob/main/Clase2.ipynb\" target=\"_parent\"><img src=\"https://colab.research.google.com/assets/colab-badge.svg\" alt=\"Open In Colab\"/></a>"
      ]
    },
    {
      "cell_type": "markdown",
      "source": [
        "**CONDICIONALES, FUNCIONES Y MANEJO DE ERRORES**\n",
        "\n",
        "DIPLOMADO EN GOBIERNO DE DATOS\n",
        "\n",
        "FUNDACIÓN UNIVERSITARIA CAFAM\n",
        "\n",
        "DOCENTE: NICOLAS MOJICA GOMEZ\n",
        "\n",
        "ESTUDIANTES: JUAN SEBASTIAN BARRETO MORENO\n",
        "\n",
        "\n",
        "\n",
        "\n",
        "\n",
        "---"
      ],
      "metadata": {
        "id": "iDSw0EsFcSsh"
      }
    },
    {
      "cell_type": "code",
      "execution_count": 1,
      "metadata": {
        "colab": {
          "base_uri": "https://localhost:8080/"
        },
        "id": "s322itFfcHjC",
        "outputId": "b9fb4264-1c86-4eed-cd48-923760b4299b"
      },
      "outputs": [
        {
          "output_type": "stream",
          "name": "stdout",
          "text": [
            "Eres mayor de edad\n"
          ]
        }
      ],
      "source": [
        "## Las condicionales en Python permiten tomar decisiones en el código basadas en ciertas condiciones, son fundamentales para controlar el flujo de ejecución.\n",
        "edad = 18\n",
        "## Crear una codicional que identifique si la persona es mayor o menor de edad.\n",
        "if edad < 18 :\n",
        "  print(\"Eres menor de edad\")\n",
        "else :\n",
        "  print(\"Eres mayor de edad\")"
      ]
    },
    {
      "cell_type": "code",
      "source": [
        "## Generar un programa que clasifique la edad introducida por el usuario entre mayor y menor de edad\n",
        "edad = int(input(\"Por favor, ingresa tu edad = \"))\n",
        "if edad < 18 :\n",
        "  print(\"Eres menor de edad\")\n",
        "else :\n",
        "  print(\"Eres mayor de edad\")"
      ],
      "metadata": {
        "colab": {
          "base_uri": "https://localhost:8080/"
        },
        "id": "DuGJAWEUc1uV",
        "outputId": "daa3d37c-40f6-4d45-8b24-fdb3155a9720"
      },
      "execution_count": 15,
      "outputs": [
        {
          "output_type": "stream",
          "name": "stdout",
          "text": [
            "Por favor, ingresa tu edad = 117\n",
            "Eres mayor de edad\n"
          ]
        }
      ]
    },
    {
      "cell_type": "code",
      "source": [],
      "metadata": {
        "id": "PG2ljRt8dlF-"
      },
      "execution_count": null,
      "outputs": []
    }
  ]
}